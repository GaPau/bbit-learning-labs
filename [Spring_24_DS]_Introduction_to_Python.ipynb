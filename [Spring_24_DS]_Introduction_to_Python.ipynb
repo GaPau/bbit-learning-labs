{
  "nbformat": 4,
  "nbformat_minor": 0,
  "metadata": {
    "colab": {
      "provenance": [],
      "collapsed_sections": [
        "sG8ao6vn6wcl",
        "U__cTDVa3Zfq",
        "SPLEz277FNHZ",
        "Z_mabPPJTmny"
      ],
      "include_colab_link": true
    },
    "kernelspec": {
      "name": "python3",
      "display_name": "Python 3"
    },
    "language_info": {
      "name": "python"
    }
  },
  "cells": [
    {
      "cell_type": "markdown",
      "metadata": {
        "id": "view-in-github",
        "colab_type": "text"
      },
      "source": [
        "<a href=\"https://colab.research.google.com/github/GaPau/bbit-learning-labs/blob/main/%5BSpring_24_DS%5D_Introduction_to_Python.ipynb\" target=\"_parent\"><img src=\"https://colab.research.google.com/assets/colab-badge.svg\" alt=\"Open In Colab\"/></a>"
      ]
    },
    {
      "cell_type": "markdown",
      "source": [
        "# **CS 2302 Data Structures - Introduction to Python**\n",
        "**Author:** <br>\n",
        "[Olac Fuentes](http://www.cs.utep.edu/ofuentes/)<br>\n",
        "Computer Science Department<br>\n",
        "University of Texas at El Paso<br>\n",
        "**Last modified:** 1/17/2024<br>"
      ],
      "metadata": {
        "id": "vkT6T4ColrTF"
      }
    },
    {
      "cell_type": "markdown",
      "metadata": {
        "id": "sG8ao6vn6wcl"
      },
      "source": [
        "## **Introduction**"
      ]
    },
    {
      "cell_type": "markdown",
      "metadata": {
        "id": "EN79Hurr2Ovn"
      },
      "source": [
        "**Why Python?**\n",
        "\n",
        "<ul>\n",
        "  <li>Easy to learn </li>\n",
        "  <li>Readable</li>\n",
        "  <li>Interpreted – makes debugging easier</li>\n",
        " <li>High level – you can do more with less code </li>\n",
        "  <li>Lots of available libraries</li>\n",
        "  <li>Dominant language in several research areas – Artificial intelligence, Data Science</li>\n",
        "</ul>"
      ]
    },
    {
      "cell_type": "markdown",
      "metadata": {
        "id": "ME4v-g9N26j5"
      },
      "source": [
        "**Some disadvantages**\n",
        "\n",
        "<ul>\n",
        "  <li>Speed – interpreted code is usually slower than compiled code </li>\n",
        "  <li>Weak support in some areas – mobile apps, databases</li>\n",
        "  <li>Dynamic typing may make debugging harder</li>\n",
        "</ul>"
      ]
    },
    {
      "cell_type": "markdown",
      "metadata": {
        "id": "FGqXrF1d8cT2"
      },
      "source": [
        "**Python and Java - Key Difference**\n",
        "\n",
        "<ul>\n",
        "  <li>Python is dynamically-typed - it performs type checking at runtime.  </li>\n",
        "    <li>Java is statically-typed - it performs type checking at compile time.  </li>\n",
        "  </ul>\n",
        "\n"
      ]
    },
    {
      "cell_type": "markdown",
      "source": [
        "**Python and Java - Key Difference**\n",
        "\n",
        "<ul>\n",
        "  <li> Python is interpreted - a program (called the interpeter) executes instructions as they are provided. Declared functions and variables (and their values) are available after an interpreter call.  </li>\n",
        "    <li>Java is compiled - a complete program is translated to executable code, then it is run. After execution, variables are erased.\n",
        "  </ul>\n"
      ],
      "metadata": {
        "id": "AJ2rVz52bcnK"
      }
    },
    {
      "cell_type": "markdown",
      "metadata": {
        "id": "eM8HjugT5S5X"
      },
      "source": [
        "### **Python and CS 2302**"
      ]
    },
    {
      "cell_type": "markdown",
      "metadata": {
        "id": "CJEZJ6ri5auq"
      },
      "source": [
        "Python can be used through a browser, without installing any software on your computer or by installing one of many Integrated Development Environments (IDEs).\n",
        "\n",
        "For this class, we will run Phython using both modalities:\n",
        "\n",
        "Web-based: Google Colaboratory - run directly at https://colab.research.google.com/notebooks/intro.ipynb?utm_source=scs-index\n",
        "\n",
        "IDE: Spyder - Download from https://www.spyder-ide.org/"
      ]
    },
    {
      "cell_type": "markdown",
      "metadata": {
        "id": "U__cTDVa3Zfq"
      },
      "source": [
        "## **Python Syntax for Java Programmers**"
      ]
    },
    {
      "cell_type": "markdown",
      "metadata": {
        "id": "SPLEz277FNHZ"
      },
      "source": [
        "### **Instructions**"
      ]
    },
    {
      "cell_type": "markdown",
      "metadata": {
        "id": "-LHVgxQlFPvY"
      },
      "source": [
        "We must write an instruction per line\n",
        "\n",
        "End-of-line works as instruction separator, just like ';' in Java\n",
        "\n",
        "Indentation matters! (more on that later)"
      ]
    },
    {
      "cell_type": "markdown",
      "metadata": {
        "id": "nevO_732DuwY"
      },
      "source": [
        "### **Input and output**"
      ]
    },
    {
      "cell_type": "markdown",
      "metadata": {
        "id": "jA-Ho7rd9Av8"
      },
      "source": [
        "*print* behaves like system.out.println in Java\n",
        "\n",
        "Multiple constants or variables can be printed with a single statement\n"
      ]
    },
    {
      "cell_type": "code",
      "metadata": {
        "id": "_wav0bokD7Uj",
        "colab": {
          "base_uri": "https://localhost:8080/"
        },
        "outputId": "d29bcbef-b400-4cf6-d997-ee4d9e2f5536"
      },
      "source": [
        "print('Data','Structures')\n",
        "print(1,2,3,4,5,6,7,8,9,10)\n",
        "print('CS',2302)"
      ],
      "execution_count": null,
      "outputs": [
        {
          "output_type": "stream",
          "name": "stdout",
          "text": [
            "Data Structures\n",
            "1 2 3 4 5 6 7 8 9 10\n",
            "CS 2302\n"
          ]
        }
      ]
    },
    {
      "cell_type": "code",
      "metadata": {
        "id": "rv_KHgO5V_TC",
        "colab": {
          "base_uri": "https://localhost:8080/"
        },
        "outputId": "1e6e066b-4ab2-4e56-bbd4-a66c55828bde"
      },
      "source": [
        "a = 0\n",
        "b = 1\n",
        "print(a,b)\n",
        "print('a is equal to',a,'and b is equal to',b)"
      ],
      "execution_count": null,
      "outputs": [
        {
          "output_type": "stream",
          "name": "stdout",
          "text": [
            "0 1\n",
            "a is equal to 0 and b is equal to 1\n"
          ]
        }
      ]
    },
    {
      "cell_type": "code",
      "source": [
        "print(b)"
      ],
      "metadata": {
        "id": "AbDGu1S8ydS8",
        "colab": {
          "base_uri": "https://localhost:8080/"
        },
        "outputId": "7009a3f6-923b-4fc3-ff96-770e7ecec57c"
      },
      "execution_count": null,
      "outputs": [
        {
          "output_type": "stream",
          "name": "stdout",
          "text": [
            "1\n"
          ]
        }
      ]
    },
    {
      "cell_type": "markdown",
      "metadata": {
        "id": "abvNxMyQWNkG"
      },
      "source": [
        "To print without moving to the next line (like system.out.print() in Java), we specify the parameter 'end' in the print statement."
      ]
    },
    {
      "cell_type": "code",
      "metadata": {
        "id": "jaGXWVUTEzWj",
        "colab": {
          "base_uri": "https://localhost:8080/"
        },
        "outputId": "58af134f-2a42-4791-92e0-71b001a12c98"
      },
      "source": [
        "print('CS',end=' ')\n",
        "print(2302)"
      ],
      "execution_count": null,
      "outputs": [
        {
          "output_type": "stream",
          "name": "stdout",
          "text": [
            "CS 2302\n"
          ]
        }
      ]
    },
    {
      "cell_type": "code",
      "metadata": {
        "id": "5ZKbyNl9E8XQ",
        "colab": {
          "base_uri": "https://localhost:8080/"
        },
        "outputId": "f7012bdf-9c65-4011-e521-1fe71354a809"
      },
      "source": [
        "print('CS',end='')\n",
        "print(2302)"
      ],
      "execution_count": null,
      "outputs": [
        {
          "output_type": "stream",
          "name": "stdout",
          "text": [
            "CS2302\n"
          ]
        }
      ]
    },
    {
      "cell_type": "code",
      "metadata": {
        "id": "mFwUhHDJE_u_",
        "colab": {
          "base_uri": "https://localhost:8080/"
        },
        "outputId": "7c5b1c71-b1ef-48fc-80a9-07a371a70457"
      },
      "source": [
        "print('CS')\n",
        "print(2302)"
      ],
      "execution_count": null,
      "outputs": [
        {
          "output_type": "stream",
          "name": "stdout",
          "text": [
            "CS\n",
            "2302\n"
          ]
        }
      ]
    },
    {
      "cell_type": "markdown",
      "metadata": {
        "id": "jnDVS5iTDCCQ"
      },
      "source": [
        "Data input from the keyboard is much simpler than in Java. Notice that the function *input* always returns a string. You must use casting for other data types."
      ]
    },
    {
      "cell_type": "code",
      "metadata": {
        "id": "JbffmcfIDAGF",
        "colab": {
          "base_uri": "https://localhost:8080/",
          "height": 280
        },
        "outputId": "c88211f4-28cb-4b66-ebfb-6a806e157498"
      },
      "source": [
        "name = input(\"Enter name\\n\")\n",
        "age = int(input(\"Enter age\\n\"))\n",
        "print(\"Name is\", name ,\" and age is\", age)"
      ],
      "execution_count": null,
      "outputs": [
        {
          "name": "stdout",
          "output_type": "stream",
          "text": [
            "Enter name\n",
            "asasa\n",
            "Enter age\n",
            "sddsfdsf\n"
          ]
        },
        {
          "output_type": "error",
          "ename": "ValueError",
          "evalue": "invalid literal for int() with base 10: 'sddsfdsf'",
          "traceback": [
            "\u001b[0;31m---------------------------------------------------------------------------\u001b[0m",
            "\u001b[0;31mValueError\u001b[0m                                Traceback (most recent call last)",
            "\u001b[0;32m<ipython-input-53-974bf7db2294>\u001b[0m in \u001b[0;36m<cell line: 2>\u001b[0;34m()\u001b[0m\n\u001b[1;32m      1\u001b[0m \u001b[0mname\u001b[0m \u001b[0;34m=\u001b[0m \u001b[0minput\u001b[0m\u001b[0;34m(\u001b[0m\u001b[0;34m\"Enter name\\n\"\u001b[0m\u001b[0;34m)\u001b[0m\u001b[0;34m\u001b[0m\u001b[0;34m\u001b[0m\u001b[0m\n\u001b[0;32m----> 2\u001b[0;31m \u001b[0mage\u001b[0m \u001b[0;34m=\u001b[0m \u001b[0mint\u001b[0m\u001b[0;34m(\u001b[0m\u001b[0minput\u001b[0m\u001b[0;34m(\u001b[0m\u001b[0;34m\"Enter age\\n\"\u001b[0m\u001b[0;34m)\u001b[0m\u001b[0;34m)\u001b[0m\u001b[0;34m\u001b[0m\u001b[0;34m\u001b[0m\u001b[0m\n\u001b[0m\u001b[1;32m      3\u001b[0m \u001b[0mprint\u001b[0m\u001b[0;34m(\u001b[0m\u001b[0;34m\"Name is\"\u001b[0m\u001b[0;34m,\u001b[0m \u001b[0mname\u001b[0m \u001b[0;34m,\u001b[0m\u001b[0;34m\" and age is\"\u001b[0m\u001b[0;34m,\u001b[0m \u001b[0mage\u001b[0m\u001b[0;34m)\u001b[0m\u001b[0;34m\u001b[0m\u001b[0;34m\u001b[0m\u001b[0m\n",
            "\u001b[0;31mValueError\u001b[0m: invalid literal for int() with base 10: 'sddsfdsf'"
          ]
        }
      ]
    },
    {
      "cell_type": "markdown",
      "source": [
        "Comments are indicated with *#*"
      ],
      "metadata": {
        "id": "n-JSVLDwZRj2"
      }
    },
    {
      "cell_type": "code",
      "source": [
        "# This is a comment\n",
        "print('CS')\n",
        "# This is another comment\n",
        "print(2302) # yet another comment"
      ],
      "metadata": {
        "id": "BKuCNnU5ZbGO",
        "colab": {
          "base_uri": "https://localhost:8080/"
        },
        "outputId": "46b9c712-2f74-4aa5-ea32-109f15292658"
      },
      "execution_count": null,
      "outputs": [
        {
          "output_type": "stream",
          "name": "stdout",
          "text": [
            "CS\n",
            "2302\n"
          ]
        }
      ]
    },
    {
      "cell_type": "markdown",
      "metadata": {
        "id": "re_Pa7NPFFmk"
      },
      "source": [
        "### **Variables**"
      ]
    },
    {
      "cell_type": "markdown",
      "metadata": {
        "id": "gVoBg0KW1t0w"
      },
      "source": [
        "Variables don't need to be declared.\n",
        "\n",
        "Type is inferred at run time from value assigned."
      ]
    },
    {
      "cell_type": "code",
      "metadata": {
        "id": "kAjTGT1E1tIJ",
        "colab": {
          "base_uri": "https://localhost:8080/"
        },
        "outputId": "d7552e9e-5f24-463c-997c-7f6d600f21f4"
      },
      "source": [
        "a = 2302\n",
        "print(a)\n",
        "b = 3.1416\n",
        "print(b)\n",
        "c = 'Data Structures'\n",
        "print(c)"
      ],
      "execution_count": null,
      "outputs": [
        {
          "output_type": "stream",
          "name": "stdout",
          "text": [
            "2302\n",
            "3.1416\n",
            "Data Structures\n"
          ]
        }
      ]
    },
    {
      "cell_type": "code",
      "source": [
        "f = b + 3\n",
        "print(f)"
      ],
      "metadata": {
        "colab": {
          "base_uri": "https://localhost:8080/"
        },
        "id": "g8vWl42dpsEE",
        "outputId": "8b37555e-15ad-4efd-9db3-b07505c1aa5e"
      },
      "execution_count": null,
      "outputs": [
        {
          "output_type": "stream",
          "name": "stdout",
          "text": [
            "6.1416\n"
          ]
        }
      ]
    },
    {
      "cell_type": "code",
      "source": [
        "f = c + '3'\n",
        "print(f)"
      ],
      "metadata": {
        "id": "ogbWcwdboc32",
        "colab": {
          "base_uri": "https://localhost:8080/"
        },
        "outputId": "2fc7300f-79e2-417e-d7ef-edd9e47fabb0"
      },
      "execution_count": null,
      "outputs": [
        {
          "output_type": "stream",
          "name": "stdout",
          "text": [
            "Data Structures3\n"
          ]
        }
      ]
    },
    {
      "cell_type": "markdown",
      "metadata": {
        "id": "trmzV6Jd2O24"
      },
      "source": [
        "Type can change\n",
        "\n"
      ]
    },
    {
      "cell_type": "code",
      "metadata": {
        "id": "57PJZc4A1nyz",
        "colab": {
          "base_uri": "https://localhost:8080/"
        },
        "outputId": "a9c36d70-3710-4cb9-cc3a-c4430de27dc2"
      },
      "source": [
        "a = 3.1416\n",
        "print(a)\n",
        "\n",
        "a = 'Data Structures'\n",
        "print(a)"
      ],
      "execution_count": null,
      "outputs": [
        {
          "output_type": "stream",
          "name": "stdout",
          "text": [
            "3.1416\n",
            "Data Structures\n"
          ]
        }
      ]
    },
    {
      "cell_type": "markdown",
      "source": [
        "The *type* function returns the type of a variable"
      ],
      "metadata": {
        "id": "AptMAJ13Ycgy"
      }
    },
    {
      "cell_type": "code",
      "source": [
        "a = 3.1416\n",
        "print(type(a))\n",
        "\n",
        "a = 'Data Structures'\n",
        "print(type(a))\n",
        "\n",
        "a = 2302\n",
        "print(type(a))"
      ],
      "metadata": {
        "id": "k_BnavrjYrr9",
        "colab": {
          "base_uri": "https://localhost:8080/"
        },
        "outputId": "a9c437ef-d75d-444c-dbd0-129b7440b1fa"
      },
      "execution_count": null,
      "outputs": [
        {
          "output_type": "stream",
          "name": "stdout",
          "text": [
            "<class 'float'>\n",
            "<class 'str'>\n",
            "<class 'int'>\n"
          ]
        }
      ]
    },
    {
      "cell_type": "markdown",
      "source": [
        "Variables names can be written together with their values using 'f' strings - this is very useful for debugging."
      ],
      "metadata": {
        "id": "rha5QzeQEwMd"
      }
    },
    {
      "cell_type": "code",
      "source": [
        "print(f'{a = }')"
      ],
      "metadata": {
        "colab": {
          "base_uri": "https://localhost:8080/"
        },
        "id": "mDaxsY8oEquD",
        "outputId": "afffbec6-717a-45f2-c224-09374f30135a"
      },
      "execution_count": null,
      "outputs": [
        {
          "output_type": "stream",
          "name": "stdout",
          "text": [
            "a=2302\n"
          ]
        }
      ]
    },
    {
      "cell_type": "markdown",
      "metadata": {
        "id": "Ujwt73ehGaxq"
      },
      "source": [
        "### **Conditional statements and grouping**"
      ]
    },
    {
      "cell_type": "markdown",
      "metadata": {
        "id": "DTRKOPkS2bvI"
      },
      "source": [
        "*if* statements are similar to Java's\n",
        "\n",
        "grouping of statements is indicated by indentation\n",
        "\n",
        "*:* indicates the start of a block\n"
      ]
    },
    {
      "cell_type": "code",
      "metadata": {
        "id": "fPvM9SBy2lg1",
        "colab": {
          "base_uri": "https://localhost:8080/"
        },
        "outputId": "f8c261c8-512e-448b-a804-84c9e7b56284"
      },
      "source": [
        "a= 20\n",
        "if a>10:\n",
        "    print('a is greater than 10')\n",
        "else:\n",
        "    print('a is not greater than 10')\n",
        "\n",
        "if a>100:\n",
        "    print('a is greater than 100')\n",
        "else:\n",
        "    print('a is not greater than 100')"
      ],
      "execution_count": null,
      "outputs": [
        {
          "output_type": "stream",
          "name": "stdout",
          "text": [
            "a is greater than 10\n",
            "a is not greater than 100\n"
          ]
        }
      ]
    },
    {
      "cell_type": "code",
      "metadata": {
        "id": "h7WWsp8VGpLc",
        "colab": {
          "base_uri": "https://localhost:8080/"
        },
        "outputId": "cf4ebbb5-07bc-45ef-d6b8-726f025ceb5e"
      },
      "source": [
        "a = 2\n",
        "if a>10:\n",
        "    print(1)\n",
        "    print(2)\n",
        "print(3)\n",
        "print(4)\n"
      ],
      "execution_count": null,
      "outputs": [
        {
          "output_type": "stream",
          "name": "stdout",
          "text": [
            "3\n",
            "4\n"
          ]
        }
      ]
    },
    {
      "cell_type": "code",
      "metadata": {
        "id": "gy0MUZY9HAut",
        "colab": {
          "base_uri": "https://localhost:8080/"
        },
        "outputId": "898cc7c4-00b3-4a33-d05f-1f0d3d45d283"
      },
      "source": [
        "a = 20\n",
        "if a>10:\n",
        "    print(1)\n",
        "    print(2)\n",
        "print(3)\n",
        "print(4)"
      ],
      "execution_count": null,
      "outputs": [
        {
          "output_type": "stream",
          "name": "stdout",
          "text": [
            "1\n",
            "2\n",
            "3\n",
            "4\n"
          ]
        }
      ]
    },
    {
      "cell_type": "markdown",
      "metadata": {
        "id": "STb5O4yc2qPN"
      },
      "source": [
        "*while* statements are similar to Java's"
      ]
    },
    {
      "cell_type": "code",
      "metadata": {
        "id": "QFC1ce592leb",
        "colab": {
          "base_uri": "https://localhost:8080/"
        },
        "outputId": "5ca261de-21e7-4477-d162-697f27fca0e8"
      },
      "source": [
        "a = 0\n",
        "while a<10:\n",
        "    a += 1\n",
        "    print(a)\n"
      ],
      "execution_count": null,
      "outputs": [
        {
          "output_type": "stream",
          "name": "stdout",
          "text": [
            "1\n",
            "2\n",
            "3\n",
            "4\n",
            "5\n",
            "6\n",
            "7\n",
            "8\n",
            "9\n",
            "10\n"
          ]
        }
      ]
    },
    {
      "cell_type": "markdown",
      "metadata": {
        "id": "sSDJzBPg3Lxd"
      },
      "source": [
        "*for* loops use the *range* function\n",
        "\n"
      ]
    },
    {
      "cell_type": "code",
      "metadata": {
        "id": "O520iHGH3RS9",
        "colab": {
          "base_uri": "https://localhost:8080/"
        },
        "outputId": "163f4554-c0b3-4960-bc5b-65e99dcc6b3e"
      },
      "source": [
        "for i in range(10):\n",
        "    print(i)"
      ],
      "execution_count": null,
      "outputs": [
        {
          "output_type": "stream",
          "name": "stdout",
          "text": [
            "0\n",
            "1\n",
            "2\n",
            "3\n",
            "4\n",
            "5\n",
            "6\n",
            "7\n",
            "8\n",
            "9\n"
          ]
        }
      ]
    },
    {
      "cell_type": "markdown",
      "metadata": {
        "id": "NoUKgSmX3Yc1"
      },
      "source": [
        "*range* receives 1, 2, or 3 parameters, corresponding to start, end (non-inclusive) and step\n",
        "\n",
        "if 1 parameter is specified, it's assumed to be the end; start defaults to 0 and step to 1\n",
        "\n",
        "if 2 parameters are specified, they're assumed to be start and end; step defaults to 1"
      ]
    },
    {
      "cell_type": "code",
      "metadata": {
        "id": "Jar9vfZA3xua",
        "colab": {
          "base_uri": "https://localhost:8080/"
        },
        "outputId": "c1630314-b874-49ed-9552-73635cacaa2c"
      },
      "source": [
        "for i in range(5,10): # start = 5, end = 10, step = 1 (default value)\n",
        "    print(i)"
      ],
      "execution_count": null,
      "outputs": [
        {
          "output_type": "stream",
          "name": "stdout",
          "text": [
            "5\n",
            "6\n",
            "7\n",
            "8\n",
            "9\n"
          ]
        }
      ]
    },
    {
      "cell_type": "code",
      "metadata": {
        "id": "HDTP4PFk80_k",
        "colab": {
          "base_uri": "https://localhost:8080/"
        },
        "outputId": "409c9eac-4267-4ea7-f16c-0d93c5644d95"
      },
      "source": [
        "for i in range(1,10,2): # start = 1, end = 10, step = 2\n",
        "    print(i)"
      ],
      "execution_count": null,
      "outputs": [
        {
          "output_type": "stream",
          "name": "stdout",
          "text": [
            "1\n",
            "3\n",
            "5\n",
            "7\n",
            "9\n"
          ]
        }
      ]
    },
    {
      "cell_type": "code",
      "source": [
        "for i in range(10): # start = 0 (default value), end = 10, step = 1 (default value)\n",
        "    print(i)"
      ],
      "metadata": {
        "id": "-DKkeZfJZypE",
        "colab": {
          "base_uri": "https://localhost:8080/"
        },
        "outputId": "c1c88e5b-b53b-4f51-ca0b-2d39deb88dbe"
      },
      "execution_count": null,
      "outputs": [
        {
          "output_type": "stream",
          "name": "stdout",
          "text": [
            "0\n",
            "1\n",
            "2\n",
            "3\n",
            "4\n",
            "5\n",
            "6\n",
            "7\n",
            "8\n",
            "9\n"
          ]
        }
      ]
    },
    {
      "cell_type": "code",
      "source": [
        "for i in range(10): # start = 0 (default value), end = 10, step = 1 (default value)\n",
        "    if i==5:\n",
        "        continue\n",
        "    print(i)"
      ],
      "metadata": {
        "colab": {
          "base_uri": "https://localhost:8080/"
        },
        "id": "7T2q-a-oX5Mn",
        "outputId": "9ed5fd0f-bc53-4006-b86f-886903a049cf"
      },
      "execution_count": null,
      "outputs": [
        {
          "output_type": "stream",
          "name": "stdout",
          "text": [
            "0\n",
            "1\n",
            "2\n",
            "3\n",
            "4\n",
            "6\n",
            "7\n",
            "8\n",
            "9\n"
          ]
        }
      ]
    },
    {
      "cell_type": "code",
      "source": [
        "for i in range(10,0,-1): # start = 10, end = 0, step = -1 (default value)\n",
        "    print(i)"
      ],
      "metadata": {
        "id": "JrQGMQOcaAUF",
        "colab": {
          "base_uri": "https://localhost:8080/"
        },
        "outputId": "6f27c91e-1dd0-4fd2-fbd4-2664a20103a3"
      },
      "execution_count": null,
      "outputs": [
        {
          "output_type": "stream",
          "name": "stdout",
          "text": [
            "10\n",
            "9\n",
            "8\n",
            "7\n",
            "6\n",
            "5\n",
            "4\n",
            "3\n",
            "2\n",
            "1\n"
          ]
        }
      ]
    },
    {
      "cell_type": "markdown",
      "metadata": {
        "id": "y9EmSvWL33xu"
      },
      "source": [
        "It is possible to have no elements in the specified *range*. This does not cause an error; the body of the loop is simply not executed"
      ]
    },
    {
      "cell_type": "code",
      "source": [
        "for i in range(20, 10):\n",
        "    print(i)"
      ],
      "metadata": {
        "id": "-Aru05ayWWax"
      },
      "execution_count": null,
      "outputs": []
    },
    {
      "cell_type": "code",
      "metadata": {
        "id": "mFRN1h_Y36sm",
        "colab": {
          "base_uri": "https://localhost:8080/"
        },
        "outputId": "6f62db5c-73e8-4c98-be55-bb0341c34df5"
      },
      "source": [
        "for i in range(10): # start = 10, end = 0, step = 1 (default value)\n",
        "    print(i)"
      ],
      "execution_count": null,
      "outputs": [
        {
          "output_type": "stream",
          "name": "stdout",
          "text": [
            "0\n",
            "1\n",
            "2\n",
            "3\n",
            "4\n",
            "5\n",
            "6\n",
            "7\n",
            "8\n",
            "9\n"
          ]
        }
      ]
    },
    {
      "cell_type": "code",
      "source": [
        "for i in range(0,10,-1): # start = 0, end = 10, step = -1\n",
        "  print(i)"
      ],
      "metadata": {
        "id": "coVSHjR7aami"
      },
      "execution_count": null,
      "outputs": []
    },
    {
      "cell_type": "code",
      "source": [
        "for i in range(20,5):\n",
        "  print(i)\n"
      ],
      "metadata": {
        "id": "B1Ojr7PKsILO"
      },
      "execution_count": null,
      "outputs": []
    },
    {
      "cell_type": "code",
      "source": [
        "for i in range(10):\n",
        "  print(i)\n",
        "  i = 100\n"
      ],
      "metadata": {
        "colab": {
          "base_uri": "https://localhost:8080/"
        },
        "id": "XZu5T4U0jo6-",
        "outputId": "5596f5c3-413c-432d-85ef-754c62801654"
      },
      "execution_count": null,
      "outputs": [
        {
          "output_type": "stream",
          "name": "stdout",
          "text": [
            "0\n",
            "1\n",
            "2\n",
            "3\n",
            "4\n",
            "5\n",
            "6\n",
            "7\n",
            "8\n",
            "9\n"
          ]
        }
      ]
    },
    {
      "cell_type": "markdown",
      "metadata": {
        "id": "7o-yo-8u39h2"
      },
      "source": [
        "Loops, of course, can be nested\n"
      ]
    },
    {
      "cell_type": "code",
      "metadata": {
        "id": "Wyna_5ZO31BG",
        "colab": {
          "base_uri": "https://localhost:8080/"
        },
        "outputId": "4a823127-b724-403d-c6dd-dce262e333fb"
      },
      "source": [
        "for i in range(3):\n",
        "    for j in range(10,15):\n",
        "        print(i,j)"
      ],
      "execution_count": null,
      "outputs": [
        {
          "output_type": "stream",
          "name": "stdout",
          "text": [
            "0 10\n",
            "0 11\n",
            "0 12\n",
            "0 13\n",
            "0 14\n",
            "1 10\n",
            "1 11\n",
            "1 12\n",
            "1 13\n",
            "1 14\n",
            "2 10\n",
            "2 11\n",
            "2 12\n",
            "2 13\n",
            "2 14\n"
          ]
        }
      ]
    },
    {
      "cell_type": "code",
      "metadata": {
        "id": "L0BU3_WL3nUm",
        "colab": {
          "base_uri": "https://localhost:8080/"
        },
        "outputId": "af157a70-08f2-445e-98a9-c902c87408a0"
      },
      "source": [
        "for i in range(5):\n",
        "    j = i\n",
        "    while j<6:\n",
        "        print(i,j)\n",
        "        j +=1"
      ],
      "execution_count": null,
      "outputs": [
        {
          "output_type": "stream",
          "name": "stdout",
          "text": [
            "0 0\n",
            "0 1\n",
            "0 2\n",
            "0 3\n",
            "0 4\n",
            "0 5\n",
            "1 1\n",
            "1 2\n",
            "1 3\n",
            "1 4\n",
            "1 5\n",
            "2 2\n",
            "2 3\n",
            "2 4\n",
            "2 5\n",
            "3 3\n",
            "3 4\n",
            "3 5\n",
            "4 4\n",
            "4 5\n"
          ]
        }
      ]
    },
    {
      "cell_type": "markdown",
      "metadata": {
        "id": "NRbm3UsPHPNC"
      },
      "source": [
        "### **Functions**"
      ]
    },
    {
      "cell_type": "markdown",
      "metadata": {
        "id": "mjE5Pmby5DHc"
      },
      "source": [
        "Functions are declared using the **def** keyword\n",
        "\n",
        "Parameter types are not specified; they are determined at run time and may be different for different calls\n",
        "\n",
        "Return type is not specified and can be different for different parameters"
      ]
    },
    {
      "cell_type": "code",
      "metadata": {
        "id": "56KPyxh95H5t"
      },
      "source": [
        "def plus(a,b):\n",
        "    return a+b"
      ],
      "execution_count": null,
      "outputs": []
    },
    {
      "cell_type": "markdown",
      "metadata": {
        "id": "KD_8Mkw-5VaC"
      },
      "source": [
        "This returns an integer"
      ]
    },
    {
      "cell_type": "code",
      "metadata": {
        "id": "xqxLlFFJ5Y8i",
        "colab": {
          "base_uri": "https://localhost:8080/"
        },
        "outputId": "2fcc29a1-67c1-4614-bfce-08b46b92bdf4"
      },
      "source": [
        "a = plus(3,5)\n",
        "print(a)"
      ],
      "execution_count": null,
      "outputs": [
        {
          "output_type": "stream",
          "name": "stdout",
          "text": [
            "8\n"
          ]
        }
      ]
    },
    {
      "cell_type": "markdown",
      "metadata": {
        "id": "DBzPui2e5fs-"
      },
      "source": [
        "This returns a floating point number"
      ]
    },
    {
      "cell_type": "code",
      "metadata": {
        "id": "v86jSwXb5i9a",
        "colab": {
          "base_uri": "https://localhost:8080/"
        },
        "outputId": "dfa6d2f3-4970-4af5-ffd4-8e571fc4871e"
      },
      "source": [
        "a = plus(2.3,5.78)\n",
        "print(a)"
      ],
      "execution_count": null,
      "outputs": [
        {
          "output_type": "stream",
          "name": "stdout",
          "text": [
            "8.08\n"
          ]
        }
      ]
    },
    {
      "cell_type": "markdown",
      "metadata": {
        "id": "RIUdtvQD5nr3"
      },
      "source": [
        "This returns a string"
      ]
    },
    {
      "cell_type": "code",
      "metadata": {
        "id": "-1Zytsmy5nD4",
        "colab": {
          "base_uri": "https://localhost:8080/"
        },
        "outputId": "2787ee75-fbd8-43ff-915f-380be040d504"
      },
      "source": [
        "a = plus('CS','2302')\n",
        "print(a)"
      ],
      "execution_count": null,
      "outputs": [
        {
          "output_type": "stream",
          "name": "stdout",
          "text": [
            "CS2302\n"
          ]
        }
      ]
    },
    {
      "cell_type": "code",
      "source": [
        "a = plus('CS',2302)\n",
        "print(a)"
      ],
      "metadata": {
        "colab": {
          "base_uri": "https://localhost:8080/",
          "height": 263
        },
        "id": "CYvtUeh3kzx7",
        "outputId": "444d90d2-00a9-4591-dfa1-cfdf274724c8"
      },
      "execution_count": null,
      "outputs": [
        {
          "output_type": "error",
          "ename": "TypeError",
          "evalue": "can only concatenate str (not \"int\") to str",
          "traceback": [
            "\u001b[0;31m---------------------------------------------------------------------------\u001b[0m",
            "\u001b[0;31mTypeError\u001b[0m                                 Traceback (most recent call last)",
            "\u001b[0;32m<ipython-input-81-1e38833fa786>\u001b[0m in \u001b[0;36m<cell line: 1>\u001b[0;34m()\u001b[0m\n\u001b[0;32m----> 1\u001b[0;31m \u001b[0ma\u001b[0m \u001b[0;34m=\u001b[0m \u001b[0mplus\u001b[0m\u001b[0;34m(\u001b[0m\u001b[0;34m'CS'\u001b[0m\u001b[0;34m,\u001b[0m\u001b[0;36m2302\u001b[0m\u001b[0;34m)\u001b[0m\u001b[0;34m\u001b[0m\u001b[0;34m\u001b[0m\u001b[0m\n\u001b[0m\u001b[1;32m      2\u001b[0m \u001b[0mprint\u001b[0m\u001b[0;34m(\u001b[0m\u001b[0ma\u001b[0m\u001b[0;34m)\u001b[0m\u001b[0;34m\u001b[0m\u001b[0;34m\u001b[0m\u001b[0m\n",
            "\u001b[0;32m<ipython-input-77-a5f6ee8e48f2>\u001b[0m in \u001b[0;36mplus\u001b[0;34m(a, b)\u001b[0m\n\u001b[1;32m      1\u001b[0m \u001b[0;32mdef\u001b[0m \u001b[0mplus\u001b[0m\u001b[0;34m(\u001b[0m\u001b[0ma\u001b[0m\u001b[0;34m,\u001b[0m\u001b[0mb\u001b[0m\u001b[0;34m)\u001b[0m\u001b[0;34m:\u001b[0m\u001b[0;34m\u001b[0m\u001b[0;34m\u001b[0m\u001b[0m\n\u001b[0;32m----> 2\u001b[0;31m     \u001b[0;32mreturn\u001b[0m \u001b[0ma\u001b[0m\u001b[0;34m+\u001b[0m\u001b[0mb\u001b[0m\u001b[0;34m\u001b[0m\u001b[0;34m\u001b[0m\u001b[0m\n\u001b[0m",
            "\u001b[0;31mTypeError\u001b[0m: can only concatenate str (not \"int\") to str"
          ]
        }
      ]
    },
    {
      "cell_type": "markdown",
      "metadata": {
        "id": "FuzcMh1k5yj8"
      },
      "source": [
        "If a function execution ends without reaching a return statement, it returns the defult value 'None'.\n",
        "\n"
      ]
    },
    {
      "cell_type": "code",
      "metadata": {
        "id": "6h0CqAGF53jy",
        "colab": {
          "base_uri": "https://localhost:8080/"
        },
        "outputId": "cee20a42-405d-4dff-a996-3df59d6c9feb"
      },
      "source": [
        "def f(a,b):\n",
        "    c = a+b\n",
        "\n",
        "\n",
        "print(f(3,5))\n",
        "print(f(3.4,5.3))"
      ],
      "execution_count": null,
      "outputs": [
        {
          "output_type": "stream",
          "name": "stdout",
          "text": [
            "None\n",
            "None\n"
          ]
        }
      ]
    },
    {
      "cell_type": "code",
      "source": [
        "def f(a,b):\n",
        "    c = a+b\n",
        "    return\n",
        "\n",
        "print(f(3,5))\n",
        "print(f(3.4,5.3))"
      ],
      "metadata": {
        "colab": {
          "base_uri": "https://localhost:8080/"
        },
        "id": "zIFL15ImZev5",
        "outputId": "3dd666bb-57e7-4298-ea83-988857b95985"
      },
      "execution_count": null,
      "outputs": [
        {
          "output_type": "stream",
          "name": "stdout",
          "text": [
            "None\n",
            "None\n"
          ]
        }
      ]
    },
    {
      "cell_type": "code",
      "source": [
        "def f(n):\n",
        "  count = 0\n",
        "  for i in range(n):\n",
        "    count+= i\n",
        "  return count\n",
        "\n",
        "print(f(100))"
      ],
      "metadata": {
        "id": "OvNygvVqsA8V",
        "colab": {
          "base_uri": "https://localhost:8080/"
        },
        "outputId": "a532bf7f-5fa0-4d1a-9fab-5bf2bf4be912"
      },
      "execution_count": null,
      "outputs": [
        {
          "output_type": "stream",
          "name": "stdout",
          "text": [
            "0\n"
          ]
        }
      ]
    },
    {
      "cell_type": "markdown",
      "metadata": {
        "id": "O0rQ3gtJ577w"
      },
      "source": [
        "As in Java, parameter values (1,2 in the example below) are copied to the local parameter variables (a,b in the example below) in the order they appear (a=1, b=2)"
      ]
    },
    {
      "cell_type": "code",
      "metadata": {
        "id": "Y0MOCY486EL1",
        "colab": {
          "base_uri": "https://localhost:8080/"
        },
        "outputId": "110f3a77-94b4-4291-ee32-52c34ac2a23a"
      },
      "source": [
        "def g(a,b):\n",
        "    return 2*a + 3*b\n",
        "\n",
        "print(g(1,2))"
      ],
      "execution_count": null,
      "outputs": [
        {
          "output_type": "stream",
          "name": "stdout",
          "text": [
            "8\n"
          ]
        }
      ]
    },
    {
      "cell_type": "markdown",
      "metadata": {
        "id": "2QkiTCLQ6JGj"
      },
      "source": [
        "We can use the local parameter variable names in the calling function"
      ]
    },
    {
      "cell_type": "code",
      "metadata": {
        "id": "i9QItNHJ6Hjv"
      },
      "source": [
        "print(g(a=1,b=2)) # This is the same as print(g(1,2))"
      ],
      "execution_count": null,
      "outputs": []
    },
    {
      "cell_type": "code",
      "metadata": {
        "id": "1u8B0f0t9j7Z",
        "colab": {
          "base_uri": "https://localhost:8080/"
        },
        "outputId": "b6e8caa4-0db1-4de1-c345-a0d9e724435e"
      },
      "source": [
        "print(g(b=1,a=2))"
      ],
      "execution_count": null,
      "outputs": [
        {
          "output_type": "stream",
          "name": "stdout",
          "text": [
            "7\n"
          ]
        }
      ]
    },
    {
      "cell_type": "markdown",
      "metadata": {
        "id": "6IsgT35p6IUt"
      },
      "source": [
        "We can specify default parameter values\n",
        "\n",
        "In the example below, a will be equal to 1 and b will be equal to 2 unless their values are specified by the calling function"
      ]
    },
    {
      "cell_type": "code",
      "metadata": {
        "id": "hycDl8Ga6iNe"
      },
      "source": [
        "def h(a=1,b=2):\n",
        "    return 2*a + 3*b\n"
      ],
      "execution_count": null,
      "outputs": []
    },
    {
      "cell_type": "code",
      "metadata": {
        "id": "S_Am6-3V9txu",
        "colab": {
          "base_uri": "https://localhost:8080/"
        },
        "outputId": "21141412-f023-4c72-e648-6f106dcbceab"
      },
      "source": [
        "print(h())  # a defaults to 1, b defaults to 2"
      ],
      "execution_count": null,
      "outputs": [
        {
          "output_type": "stream",
          "name": "stdout",
          "text": [
            "8\n"
          ]
        }
      ]
    },
    {
      "cell_type": "code",
      "metadata": {
        "id": "RyI4Hu9c9ysU",
        "colab": {
          "base_uri": "https://localhost:8080/"
        },
        "outputId": "65cd0476-b150-42fd-8eae-7b729d6cf98b"
      },
      "source": [
        "print(h(10))  # a is set to 10, b defaults to 2"
      ],
      "execution_count": null,
      "outputs": [
        {
          "output_type": "stream",
          "name": "stdout",
          "text": [
            "26\n"
          ]
        }
      ]
    },
    {
      "cell_type": "code",
      "metadata": {
        "id": "uCrf_8Jd9yjG",
        "colab": {
          "base_uri": "https://localhost:8080/"
        },
        "outputId": "d9c775fb-ca2c-42ec-aafa-6b6efddc826f"
      },
      "source": [
        "print(h(a=10))  # a is set to 10, b defaults to 2"
      ],
      "execution_count": null,
      "outputs": [
        {
          "output_type": "stream",
          "name": "stdout",
          "text": [
            "26\n"
          ]
        }
      ]
    },
    {
      "cell_type": "code",
      "metadata": {
        "id": "IPHYM6S29yc4",
        "colab": {
          "base_uri": "https://localhost:8080/"
        },
        "outputId": "5da376e0-504d-4383-f7f7-7b3b31691951"
      },
      "source": [
        "print(h(b=10))  # b is set to 10, a defaults to 1"
      ],
      "execution_count": null,
      "outputs": [
        {
          "output_type": "stream",
          "name": "stdout",
          "text": [
            "32\n"
          ]
        }
      ]
    },
    {
      "cell_type": "code",
      "metadata": {
        "id": "jCYIWBaH9yUI",
        "colab": {
          "base_uri": "https://localhost:8080/"
        },
        "outputId": "2e41eb02-ba0d-427f-e385-8bfb576c965b"
      },
      "source": [
        "print(h(10,0))  # a is set to 10, b is set to 0"
      ],
      "execution_count": null,
      "outputs": [
        {
          "output_type": "stream",
          "name": "stdout",
          "text": [
            "20\n"
          ]
        }
      ]
    },
    {
      "cell_type": "code",
      "metadata": {
        "id": "yzM_MDGI9yEX"
      },
      "source": [
        "print(h(b=10,a=0))  # b is set to 10, a is set to 0"
      ],
      "execution_count": null,
      "outputs": []
    },
    {
      "cell_type": "markdown",
      "metadata": {
        "id": "Dmxm1_G-HgBi"
      },
      "source": [
        "### **Classes and objects**"
      ]
    },
    {
      "cell_type": "markdown",
      "metadata": {
        "id": "UYj4QcKO7HNt"
      },
      "source": [
        "Classes are similar to Java's\n",
        "\n",
        "To define the constructor we use the function name \"__init__\", as shown below."
      ]
    },
    {
      "cell_type": "code",
      "metadata": {
        "id": "bf5NzYzX7Gd2"
      },
      "source": [
        "class MyClass:\n",
        "\n",
        "    def __init__(self, aa=0, bb=0):\n",
        "        self.a = aa\n",
        "        self.b = bb\n",
        "        w = 2302"
      ],
      "execution_count": null,
      "outputs": []
    },
    {
      "cell_type": "markdown",
      "metadata": {
        "id": "5rU9sax8HvJ7"
      },
      "source": [
        "The constructor must have **self** as its first  parameter. **self** contains the address of the object to be created.\n",
        "\n",
        "Notice that self does NOT appear as a paramater in the calling function - thus the constructor above should receive at most two parameters.\n"
      ]
    },
    {
      "cell_type": "markdown",
      "metadata": {
        "id": "SLGivO-I7O_u"
      },
      "source": [
        "Then we can create objects of the given class as follows:"
      ]
    },
    {
      "cell_type": "code",
      "metadata": {
        "id": "DrLfOQFa6oX_"
      },
      "source": [
        "m = MyClass()\n",
        "n = MyClass(2,3)\n",
        "p = MyClass(bb=5)"
      ],
      "execution_count": null,
      "outputs": []
    },
    {
      "cell_type": "markdown",
      "metadata": {
        "id": "M-oXD4x-7mkW"
      },
      "source": [
        "To access attributes or methods, we use the dot notation, as in Java.\n",
        "\n",
        "Unlike in Java, attributes are public"
      ]
    },
    {
      "cell_type": "code",
      "metadata": {
        "id": "I6_qnEqo7pnY",
        "colab": {
          "base_uri": "https://localhost:8080/"
        },
        "outputId": "66719d1c-a9ec-491b-e19b-5cc22ea6d694"
      },
      "source": [
        "print(m.a)\n",
        "print(m.b)"
      ],
      "execution_count": null,
      "outputs": [
        {
          "output_type": "stream",
          "name": "stdout",
          "text": [
            "0\n",
            "0\n"
          ]
        }
      ]
    },
    {
      "cell_type": "code",
      "metadata": {
        "id": "cZN0BtJ8-MzE",
        "colab": {
          "base_uri": "https://localhost:8080/"
        },
        "outputId": "3b107fb0-4431-4a03-e27d-acec52820689"
      },
      "source": [
        "print(n.a)\n",
        "print(n.b)"
      ],
      "execution_count": null,
      "outputs": [
        {
          "output_type": "stream",
          "name": "stdout",
          "text": [
            "2\n",
            "3\n"
          ]
        }
      ]
    },
    {
      "cell_type": "code",
      "metadata": {
        "id": "AKvmSNIO-MgJ",
        "colab": {
          "base_uri": "https://localhost:8080/"
        },
        "outputId": "58111437-99f6-4818-f038-aa5593301336"
      },
      "source": [
        "print(p.a)\n",
        "print(p.b)"
      ],
      "execution_count": null,
      "outputs": [
        {
          "output_type": "stream",
          "name": "stdout",
          "text": [
            "0\n",
            "5\n"
          ]
        }
      ]
    },
    {
      "cell_type": "markdown",
      "metadata": {
        "id": "6iEIWDrt6u1g"
      },
      "source": [
        "Every method declaration inside the class must also have **self** as its first parameter (but it's not included in the calling statement)."
      ]
    },
    {
      "cell_type": "code",
      "metadata": {
        "id": "HJAuwA2G72m5"
      },
      "source": [
        "class MyClass:\n",
        "\n",
        "    def __init__(self, a=0, b=0):\n",
        "        self.a = a\n",
        "        self.b = b\n",
        "\n",
        "    def print_data(self):\n",
        "        self.c = 2302\n",
        "        print('a =',self.a, 'b =',self.b)\n",
        "\n",
        "    def add_a(self,c):\n",
        "        self.a += c\n",
        "\n",
        "    def add_b(self,c):\n",
        "        self.b += c"
      ],
      "execution_count": null,
      "outputs": []
    },
    {
      "cell_type": "code",
      "metadata": {
        "id": "Lx95ryXq76Ut",
        "colab": {
          "base_uri": "https://localhost:8080/"
        },
        "outputId": "0a12f4ab-c72a-4653-ad7f-69990a68356c"
      },
      "source": [
        "m = MyClass()\n",
        "n = MyClass(2,3)\n",
        "p = MyClass(b=5)\n",
        "\n",
        "m.print_data()\n",
        "n.print_data()"
      ],
      "execution_count": null,
      "outputs": [
        {
          "output_type": "stream",
          "name": "stdout",
          "text": [
            "a = 0 b = 0\n",
            "a = 2 b = 3\n"
          ]
        }
      ]
    },
    {
      "cell_type": "code",
      "source": [
        "print(m.c)"
      ],
      "metadata": {
        "colab": {
          "base_uri": "https://localhost:8080/"
        },
        "id": "Hox5PT4ire34",
        "outputId": "c36c04ca-35a2-4660-dac8-d123be930a10"
      },
      "execution_count": null,
      "outputs": [
        {
          "output_type": "stream",
          "name": "stdout",
          "text": [
            "2302\n"
          ]
        }
      ]
    },
    {
      "cell_type": "code",
      "source": [
        "print(p.c)"
      ],
      "metadata": {
        "id": "JoalKOVbwEsG",
        "colab": {
          "base_uri": "https://localhost:8080/",
          "height": 176
        },
        "outputId": "0281de02-8afb-43e0-8197-b1f0fd784344"
      },
      "execution_count": null,
      "outputs": [
        {
          "output_type": "error",
          "ename": "AttributeError",
          "evalue": "ignored",
          "traceback": [
            "\u001b[0;31m---------------------------------------------------------------------------\u001b[0m",
            "\u001b[0;31mAttributeError\u001b[0m                            Traceback (most recent call last)",
            "\u001b[0;32m<ipython-input-36-43c3176b94da>\u001b[0m in \u001b[0;36m<cell line: 1>\u001b[0;34m()\u001b[0m\n\u001b[0;32m----> 1\u001b[0;31m \u001b[0mprint\u001b[0m\u001b[0;34m(\u001b[0m\u001b[0mp\u001b[0m\u001b[0;34m.\u001b[0m\u001b[0mc\u001b[0m\u001b[0;34m)\u001b[0m\u001b[0;34m\u001b[0m\u001b[0;34m\u001b[0m\u001b[0m\n\u001b[0m",
            "\u001b[0;31mAttributeError\u001b[0m: 'MyClass' object has no attribute 'c'"
          ]
        }
      ]
    },
    {
      "cell_type": "code",
      "metadata": {
        "id": "oNtsTkSy-bPW",
        "colab": {
          "base_uri": "https://localhost:8080/"
        },
        "outputId": "4511661f-adf7-401a-c38e-b7cc9669b78b"
      },
      "source": [
        "m = MyClass(10,20)\n",
        "m.print_data()\n",
        "m.add_a(100)\n",
        "m.print_data()\n",
        "m.add_b(2302)\n",
        "m.print_data()"
      ],
      "execution_count": null,
      "outputs": [
        {
          "output_type": "stream",
          "name": "stdout",
          "text": [
            "a = 10 b = 20\n",
            "a = 110 b = 20\n",
            "a = 110 b = 2322\n"
          ]
        }
      ]
    },
    {
      "cell_type": "code",
      "source": [
        "m = MyClass(b=5)\n",
        "m.print_data()\n",
        "m.add_a(100)\n",
        "m.print_data()\n",
        "m.add_b(2302)\n",
        "m.print_data()"
      ],
      "metadata": {
        "id": "l-TFQGS7tvlO",
        "colab": {
          "base_uri": "https://localhost:8080/"
        },
        "outputId": "bbf10e4d-b776-4346-e2cd-153d474d527a"
      },
      "execution_count": null,
      "outputs": [
        {
          "output_type": "stream",
          "name": "stdout",
          "text": [
            "a = 0 b = 5\n",
            "a = 100 b = 5\n",
            "a = 100 b = 2307\n"
          ]
        }
      ]
    },
    {
      "cell_type": "markdown",
      "source": [
        "### **Notes on Style**"
      ],
      "metadata": {
        "id": "Z_mabPPJTmny"
      }
    },
    {
      "cell_type": "markdown",
      "source": [
        "Code is read much more often than it is written, therefore writing code that is easy to read is very important.\n",
        "\n",
        "Keeping a consistent style makes your code more readable. We strongly recommend using the guidelines described in https://peps.python.org/pep-0008/.\n",
        "\n",
        "You do not need to memorize the guide, but remember to consult it when you have doubts about appropriate style.\n",
        "\n",
        "Regarding naming, we recommend the following:\n",
        "\n",
        "1.   Variable names should be descriptive and meaningful and describe what the variable represents or contains.\n",
        "2.   Use **snake_case** for functions, methods, parameters, and variables.  \n",
        "3.   Use **PascalCase** for classes.  \n",
        "\n",
        "\n"
      ],
      "metadata": {
        "id": "kMjP5IVlUN1j"
      }
    }
  ]
}